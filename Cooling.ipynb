{
 "cells": [
  {
   "cell_type": "markdown",
   "metadata": {},
   "source": [
    "# Cooling information for HPD 103 Ranier\n",
    "\n",
    "* second stage cools down to 4.2 K\n",
    "* one-shot cool (GGG) down to 1 K can remove 1 J\n",
    "* one-shot cool (FAA) down to 100 mK can remove 120 mJ"
   ]
  },
  {
   "cell_type": "markdown",
   "metadata": {},
   "source": [
    "# Payload estimate\n",
    "\n",
    "* assume 0.6 kg of germanium"
   ]
  },
  {
   "cell_type": "markdown",
   "metadata": {},
   "source": [
    "# Can the HPD 103 Ranier cool this detector to 100 mK?\n",
    "\n",
    "The \"molar internal energy\" $U$ is by definition the integral of the specific heat: $U_T - U_0 = \\int_0^T C_V dT$.\n",
    "\n",
    "The energy that must be removed to cool a sample from $T_1$ to $T_2$ is $U_{T_1} - U_{T_2}$.\n",
    "\n",
    "The most accurate way to calculate $U_{T_1} - U_{T_2}$ is to get tabulated specific heat data.  However, using the analytic expression for the phonon specific heat based on the Debye model is fairly accurate as well.  The advantage is that you only need to know the Debye temperature $\\theta_D$ to get an estimate:  $C_V = 9 N k_B (T/\\theta_D)^3 \\int_0^{\\theta_D/T} x^4 e^x (e^x - 1)^{-2} dx$\n",
    "\n",
    "Or to directly compute $U_T$, $U = 9 N k_B T^4/\\theta_D^3 \\int_0^{\\theta_D/T} x^3 (e^x - 1)^{-1} dx$"
   ]
  },
  {
   "cell_type": "code",
   "execution_count": 10,
   "metadata": {
    "collapsed": true
   },
   "outputs": [],
   "source": [
    "from scipy import constants as const\n",
    "import numpy as np\n",
    "import scipy.integrate"
   ]
  },
  {
   "cell_type": "code",
   "execution_count": 16,
   "metadata": {
    "collapsed": false
   },
   "outputs": [],
   "source": [
    "# boltzmann constant in units of m^2 kg / (s^2 K)\n",
    "kB = const.k"
   ]
  },
  {
   "cell_type": "code",
   "execution_count": 84,
   "metadata": {
    "collapsed": false
   },
   "outputs": [
    {
     "name": "stdout",
     "output_type": "stream",
     "text": [
      "8.264462809917356\n"
     ]
    }
   ],
   "source": [
    "# specific to your material\n",
    "# [debye_temp] = Kelvin.  400 for Ge, 700 for Si\n",
    "# [atomic_mass] = g/mol.  72.6 for Ge, 28.09 for Si\n",
    "debye_temp = 400\n",
    "atomic_mass = 72.6\n",
    "mass_g = 600\n",
    "\n",
    "# [N] = atoms/mol.  Usually N_A!\n",
    "N = const.N_A\n",
    "mass_mol = mass_g / atomic_mass\n",
    "print (mass_mol)"
   ]
  },
  {
   "cell_type": "code",
   "execution_count": 85,
   "metadata": {
    "collapsed": false
   },
   "outputs": [],
   "source": [
    "func = lambda x: (x**4)*np.exp(x) / (np.exp(x)-1)**2"
   ]
  },
  {
   "cell_type": "code",
   "execution_count": 86,
   "metadata": {
    "collapsed": false
   },
   "outputs": [],
   "source": [
    "CV_integrand = lambda x: (x**4)*np.exp(x) / (np.exp(x)-1)**2\n",
    "CV_func = lambda T: 9*N*kB*np.power(T/debye_temp,3) * scipy.integrate.quad(CV_integrand, 0, debye_temp/T)[0]\n",
    "\n",
    "U_integrand = lambda x: (x**3) / (np.exp(x)-1)\n",
    "U_func = lambda T: 9*N*kB*np.power(T/debye_temp,3)*T * scipy.integrate.quad(U_integrand, 0, debye_temp/T)[0]\n",
    "#U_func = lambda T: scipy.integrate.quad(CV_func,0,T)"
   ]
  },
  {
   "cell_type": "code",
   "execution_count": 87,
   "metadata": {
    "collapsed": false
   },
   "outputs": [
    {
     "data": {
      "text/plain": [
       "7.5928497894600308e-06"
      ]
     },
     "execution_count": 87,
     "metadata": {},
     "output_type": "execute_result"
    }
   ],
   "source": [
    "# U_func is in Joules/mol\n",
    "# print(CV_func(4.2))\n",
    "U_func(4.2) * mass_mol\n",
    "U_func(1)"
   ]
  },
  {
   "cell_type": "code",
   "execution_count": null,
   "metadata": {
    "collapsed": true
   },
   "outputs": [],
   "source": []
  },
  {
   "cell_type": "code",
   "execution_count": null,
   "metadata": {
    "collapsed": true
   },
   "outputs": [],
   "source": []
  }
 ],
 "metadata": {
  "kernelspec": {
   "display_name": "Python [conda root]",
   "language": "python",
   "name": "conda-root-py"
  },
  "language_info": {
   "codemirror_mode": {
    "name": "ipython",
    "version": 3
   },
   "file_extension": ".py",
   "mimetype": "text/x-python",
   "name": "python",
   "nbconvert_exporter": "python",
   "pygments_lexer": "ipython3",
   "version": "3.5.2"
  }
 },
 "nbformat": 4,
 "nbformat_minor": 1
}
